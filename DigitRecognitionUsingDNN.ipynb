{
  "nbformat": 4,
  "nbformat_minor": 0,
  "metadata": {
    "colab": {
      "provenance": [],
      "authorship_tag": "ABX9TyMkqwQThVjArR0465qKawMJ",
      "include_colab_link": true
    },
    "kernelspec": {
      "name": "python3",
      "display_name": "Python 3"
    },
    "language_info": {
      "name": "python"
    }
  },
  "cells": [
    {
      "cell_type": "markdown",
      "metadata": {
        "id": "view-in-github",
        "colab_type": "text"
      },
      "source": [
        "<a href=\"https://colab.research.google.com/github/pratikbariya/Digit-Recognition-Using-DNN/blob/main/DigitRecognitionUsingDNN.ipynb\" target=\"_parent\"><img src=\"https://colab.research.google.com/assets/colab-badge.svg\" alt=\"Open In Colab\"/></a>"
      ]
    },
    {
      "cell_type": "code",
      "execution_count": 1,
      "metadata": {
        "id": "KUYTLOm5fGKt"
      },
      "outputs": [],
      "source": [
        "# import necessary libraries.\n",
        "\n",
        "import numpy as np\n",
        "import pandas as pd\n",
        "import matplotlib.pyplot as plt\n"
      ]
    },
    {
      "cell_type": "code",
      "source": [
        "# load dataset from sklearn.datasets\n",
        "\n",
        "from sklearn.datasets import load_digits\n",
        "digits=load_digits()"
      ],
      "metadata": {
        "id": "y4uI5KGqkUDJ"
      },
      "execution_count": 2,
      "outputs": []
    },
    {
      "cell_type": "code",
      "source": [
        "#  Let's see how first image of the data look like.\n",
        "\n",
        "plt.imshow(digits.images[0], cmap='gray')\n",
        "plt.axis('off')\n",
        "plt.show()"
      ],
      "metadata": {
        "colab": {
          "base_uri": "https://localhost:8080/",
          "height": 406
        },
        "id": "TU5pJOWxkkpy",
        "outputId": "8123a1fd-e4c0-48d0-ef4f-a7d85732a0b3"
      },
      "execution_count": 3,
      "outputs": [
        {
          "output_type": "display_data",
          "data": {
            "text/plain": [
              "<Figure size 640x480 with 1 Axes>"
            ],
            "image/png": "[encoded data removed]"
          },
          "metadata": {}
        }
      ]
    },
    {
      "cell_type": "code",
      "source": [
        "# let's check how image array look like:\n",
        "\n",
        "digits.images[0]"
      ],
      "metadata": {
        "colab": {
          "base_uri": "https://localhost:8080/"
        },
        "id": "ycvUy6eNlKlV",
        "outputId": "c6fe9c68-346e-4b57-d473-b80dfed7e686"
      },
      "execution_count": 4,
      "outputs": [
        {
          "output_type": "execute_result",
          "data": {
            "text/plain": [
              "array([[ 0.,  0.,  5., 13.,  9.,  1.,  0.,  0.],\n",
              "       [ 0.,  0., 13., 15., 10., 15.,  5.,  0.],\n",
              "       [ 0.,  3., 15.,  2.,  0., 11.,  8.,  0.],\n",
              "       [ 0.,  4., 12.,  0.,  0.,  8.,  8.,  0.],\n",
              "       [ 0.,  5.,  8.,  0.,  0.,  9.,  8.,  0.],\n",
              "       [ 0.,  4., 11.,  0.,  1., 12.,  7.,  0.],\n",
              "       [ 0.,  2., 14.,  5., 10., 12.,  0.,  0.],\n",
              "       [ 0.,  0.,  6., 13., 10.,  0.,  0.,  0.]])"
            ]
          },
          "metadata": {},
          "execution_count": 4
        }
      ]
    },
    {
      "cell_type": "code",
      "source": [
        "# the target digit of the image:\n",
        "\n",
        "digits.target[0]\n",
        "\n",
        "# here every image has 64 bits."
      ],
      "metadata": {
        "colab": {
          "base_uri": "https://localhost:8080/"
        },
        "id": "hmiT22V3lsv5",
        "outputId": "94e39cbf-b94c-4b57-bd7b-e84208996e7f"
      },
      "execution_count": 5,
      "outputs": [
        {
          "output_type": "execute_result",
          "data": {
            "text/plain": [
              "np.int64(0)"
            ]
          },
          "metadata": {},
          "execution_count": 5
        }
      ]
    },
    {
      "cell_type": "code",
      "source": [
        "# the image and label representation:\n",
        "\n",
        "images_and_labels=list(zip(digits.images,digits.target))\n",
        "plt.figure(figsize=(5,5))\n",
        "for index,(image,label) in enumerate(images_and_labels[:10]):\n",
        "    plt.subplot(3,5,index+1)\n",
        "    plt.axis('off')\n",
        "    plt.imshow(image,cmap=plt.cm.gray_r,interpolation='nearest')\n",
        "    plt.title('%i' % label)"
      ],
      "metadata": {
        "colab": {
          "base_uri": "https://localhost:8080/",
          "height": 262
        },
        "id": "WtVi50KKlzXD",
        "outputId": "c055ceab-47f1-4a6e-ed70-0f88799a93ec"
      },
      "execution_count": 6,
      "outputs": [
        {
          "output_type": "display_data",
          "data": {
            "text/plain": [
              "<Figure size 500x500 with 10 Axes>"
            ],
            "image/png": "[encoded data removed]"
          },
          "metadata": {}
        }
      ]
    },
    {
      "cell_type": "code",
      "source": [
        "# determine variables like total samples, image and target:\n",
        "\n",
        "n_samples=len(digits.images)\n",
        "print(\"Number of samples in the data set is :\"+ str(n_samples))\n",
        "\n",
        "x=digits.images.reshape((n_samples,-1))\n",
        "print(\"Shape of input matrix x is : \"+str(x.shape))\n",
        "\n",
        "y=digits.target\n",
        "print(\"Shape of target vector y is :\"+str(y.shape))"
      ],
      "metadata": {
        "colab": {
          "base_uri": "https://localhost:8080/"
        },
        "id": "jKH22x02mWpq",
        "outputId": "68366d89-d8a5-4352-df70-247290e1a675"
      },
      "execution_count": 7,
      "outputs": [
        {
          "output_type": "stream",
          "name": "stdout",
          "text": [
            "Number of samples in the data set is :1797\n",
            "Shape of input matrix x is : (1797, 64)\n",
            "Shape of target vector y is :(1797,)\n"
          ]
        }
      ]
    },
    {
      "cell_type": "code",
      "source": [
        "# split data into training and testing.\n",
        "\n",
        "from sklearn.model_selection import train_test_split\n",
        "\n",
        "X_train, X_test, y_train, y_test = train_test_split(\n",
        "      x, y, test_size=0.2, random_state=0\n",
        "    )\n",
        "print(X_train.shape)\n",
        "print(X_test.shape)\n",
        "print(y_train.shape)\n",
        "print(y_test.shape)"
      ],
      "metadata": {
        "id": "4GYOKslEmo4z",
        "colab": {
          "base_uri": "https://localhost:8080/"
        },
        "outputId": "28a585d3-50b6-408e-b206-d06c9fbe7931"
      },
      "execution_count": 8,
      "outputs": [
        {
          "output_type": "stream",
          "name": "stdout",
          "text": [
            "(1437, 64)\n",
            "(360, 64)\n",
            "(1437,)\n",
            "(360,)\n"
          ]
        }
      ]
    },
    {
      "cell_type": "code",
      "source": [
        "# feature scaling:\n",
        "\n",
        "# These learned parameters are then used to scale our test data. The fit method is\n",
        "# calculating the mean and variance of each of the features present in our data.\n",
        "# The transform method is transforming all the features using the respective mean\n",
        "# and variance.\n",
        "\n",
        "from sklearn.preprocessing import StandardScaler\n",
        "sc = StandardScaler()\n",
        "X_train = sc.fit_transform(X_train)\n",
        "X_test = sc.transform(X_test)\n",
        "\n",
        "print(X_train.shape)\n",
        "print(y_train.shape)\n"
      ],
      "metadata": {
        "id": "POmtW9f8nGJq",
        "colab": {
          "base_uri": "https://localhost:8080/"
        },
        "outputId": "8bca9760-8141-4381-82f8-8a3905fb5b9b"
      },
      "execution_count": 9,
      "outputs": [
        {
          "output_type": "stream",
          "name": "stdout",
          "text": [
            "(1437, 64)\n",
            "(1437,)\n"
          ]
        }
      ]
    },
    {
      "cell_type": "code",
      "source": [
        "# convert each training example to column vector.\n",
        "\n",
        "X_train=X_train.T # (1437, 64) --> (64, 1437) : (samples, features) --> (features, samples)\n",
        "X_test=X_test.T # (1437,) --> (1, 1437)\n",
        "y_train=y_train.reshape(y_train.shape[0],1)\n",
        "y_test=y_test.reshape(y_test.shape[0],1)\n",
        "y_train=y_train.T\n",
        "y_test=y_test.T\n",
        "\n",
        "print(X_train.shape)\n",
        "print(y_train.shape)"
      ],
      "metadata": {
        "colab": {
          "base_uri": "https://localhost:8080/"
        },
        "id": "rILcTMmxnO7m",
        "outputId": "32b93030-7b8e-4d74-fc69-08615684c573"
      },
      "execution_count": 10,
      "outputs": [
        {
          "output_type": "stream",
          "name": "stdout",
          "text": [
            "(64, 1437)\n",
            "(1, 1437)\n"
          ]
        }
      ]
    },
    {
      "cell_type": "code",
      "source": [
        "# change y_train and y_test data to 10 possible outputs.\n",
        "\n",
        "Y_train_=np.zeros((10,y_train.shape[1]))\n",
        "for i in range(y_train.shape[1]):\n",
        "    Y_train_[y_train[0,i],i]=1\n",
        "print(Y_train_.shape)\n",
        "\n",
        "Y_test_=np.zeros((10,y_test.shape[1]))\n",
        "for i in range(y_test.shape[1]):\n",
        "    Y_test_[y_test[0,i],i]=1\n",
        "print(Y_test_.shape)\n",
        "\n",
        "# here we have done with data processing."
      ],
      "metadata": {
        "colab": {
          "base_uri": "https://localhost:8080/"
        },
        "id": "FLI8QewcpxjH",
        "outputId": "dfe3ef1a-0eb3-46df-a988-b5e6b1519141"
      },
      "execution_count": 11,
      "outputs": [
        {
          "output_type": "stream",
          "name": "stdout",
          "text": [
            "(10, 1437)\n",
            "(10, 360)\n"
          ]
        }
      ]
    },
    {
      "cell_type": "code",
      "source": [
        "# Initialize weights and biases for deep neural networks.\n",
        "# Here layer_dims is [n_x, n_h1, n_h2, ..., n_y] represents list of the number of units.\n",
        "# [64, 60, 10, 10] this means:\n",
        "# Input layer: 64 units\n",
        "# Hidden layer 1: 60 units\n",
        "# Hidden layer 2: 10 units\n",
        "# Output layes: 10 units\n",
        "\n",
        "def initialize_parameters_deep(layer_dims):\n",
        "    np.random.seed(3)\n",
        "    parameters = {}\n",
        "    L = len(layer_dims)\n",
        "    for l in range(1, L):\n",
        "        parameters['W' + str(l)] = np.random.randn(layer_dims[l],layer_dims[l-1])*0.01\n",
        "        parameters['b' + str(l)] = np.zeros((layer_dims[l],1))\n",
        "\n",
        "        assert(parameters['W' + str(l)].shape == (layer_dims[l], layer_dims[l-1]))\n",
        "        assert(parameters['b' + str(l)].shape == (layer_dims[l], 1))\n",
        "    return parameters\n",
        "    # return parameters --> {'W1': ..., 'b1': ..., 'W2': ..., 'b2': ..., ... }"
      ],
      "metadata": {
        "id": "NNBwVN03qION"
      },
      "execution_count": 12,
      "outputs": []
    },
    {
      "cell_type": "code",
      "source": [
        "# linear forward propogation\n",
        "\n",
        "def linear_forward(A, W, b):\n",
        "    Z = np.dot(W,A)+b # WA + b\n",
        "    assert(Z.shape == (W.shape[0], A.shape[1]))\n",
        "    cache = (A, W, b)\n",
        "\n",
        "    return Z, cache"
      ],
      "metadata": {
        "id": "-BnBrr1QsUbu"
      },
      "execution_count": 13,
      "outputs": []
    },
    {
      "cell_type": "code",
      "source": [
        "# use ful activation functions and their derivatives\n",
        "def sigmoid_(Z):\n",
        "    return 1/(1+np.exp(-Z))\n",
        "\n",
        "def relu_(Z):\n",
        "    return Z*(Z>0)\n",
        "\n",
        "def drelu_(Z):\n",
        "    return 1. *(Z>0)\n",
        "\n",
        "def dsigmoid_(Z):\n",
        "    return sigmoid_(Z)*(1-sigmoid_(Z))\n",
        "\n",
        "def sigmoid(Z):\n",
        "    return sigmoid_(Z),Z\n",
        "\n",
        "def relu(Z):\n",
        "    return relu_(Z),Z"
      ],
      "metadata": {
        "id": "LQK0VFUSsZWa"
      },
      "execution_count": 14,
      "outputs": []
    },
    {
      "cell_type": "code",
      "source": [
        "# linear action forward\n",
        "\n",
        "def linear_activation_forward(A_prev,W,b,activation):\n",
        "    if activation == \"sigmoid\":\n",
        "        Z, linear_cache = linear_forward(A_prev,W,b)\n",
        "        A, activation_cache = sigmoid(Z)\n",
        "\n",
        "    elif activation == \"relu\":\n",
        "        Z, linear_cache = linear_forward(A_prev,W,b)\n",
        "        A, activation_cache = relu(Z)\n",
        "\n",
        "    assert (A.shape == (W.shape[0], A_prev.shape[1]))\n",
        "    cache = (linear_cache, activation_cache)\n",
        "\n",
        "    return A, cache"
      ],
      "metadata": {
        "id": "B-AlRxD2sdVA"
      },
      "execution_count": 15,
      "outputs": []
    },
    {
      "cell_type": "code",
      "source": [
        "# implementation of forward propogation for L layer neural network\n",
        "def L_model_forward(X, parameters):\n",
        "    caches = []\n",
        "    A = X\n",
        "    L = len(parameters) // 2\n",
        "    for l in range(1, L):\n",
        "        A_prev = A\n",
        "        A, cache = linear_activation_forward(A_prev,parameters['W'+str(l)],parameters['b'+str(l)],\"relu\")\n",
        "        caches.append(cache)\n",
        "\n",
        "    AL, cache = linear_activation_forward(A,parameters['W'+str(L)],parameters['b'+str(L)],\"sigmoid\")\n",
        "    caches.append(cache)\n",
        "    return AL, caches"
      ],
      "metadata": {
        "id": "HtlmHJyEuuDM"
      },
      "execution_count": 16,
      "outputs": []
    },
    {
      "cell_type": "code",
      "source": [
        "# cost function(cross-entropy)\n",
        "\n",
        "def compute_cost(AL, Y):\n",
        "    m=Y.shape[1]\n",
        "    cost = -(1/m)*np.sum((Y*np.log(AL)+(1-Y)*np.log(1-AL)))\n",
        "    cost=np.squeeze(cost)\n",
        "    assert(cost.shape == ())\n",
        "    return cost"
      ],
      "metadata": {
        "id": "kCU_l0Z6swZ5"
      },
      "execution_count": 17,
      "outputs": []
    },
    {
      "cell_type": "code",
      "source": [
        "# linear backward for specific layer\n",
        "\n",
        "def linear_backward(dZ, cache):\n",
        "    A_prev, W, b = cache\n",
        "    m = A_prev.shape[1]\n",
        "    dW = (1/m)*np.dot(dZ,A_prev.T)\n",
        "    db = (1/m)*np.sum(dZ,axis=1,keepdims=True)\n",
        "    dA_prev = np.dot(W.T,dZ)\n",
        "\n",
        "    assert (dA_prev.shape == A_prev.shape)\n",
        "    assert (dW.shape == W.shape)\n",
        "    assert (db.shape == b.shape)\n",
        "\n",
        "    return dA_prev, dW, db"
      ],
      "metadata": {
        "id": "z3Mo-BHYs5G6"
      },
      "execution_count": 18,
      "outputs": []
    },
    {
      "cell_type": "code",
      "source": [
        "def relu_backward(dA,activation_cache):\n",
        "    return dA* drelu_(activation_cache)\n",
        "\n",
        "def sigmoid_backward(dA,activation_cache):\n",
        "    return dA* dsigmoid_(activation_cache)"
      ],
      "metadata": {
        "id": "2gm3i4S9tDqI"
      },
      "execution_count": 19,
      "outputs": []
    },
    {
      "cell_type": "code",
      "source": [
        "# linear backward function\n",
        "\n",
        "def linear_activation_backward(dA, cache, activation):\n",
        "    linear_cache, activation_cache = cache\n",
        "    if activation == \"relu\":\n",
        "        dZ = relu_backward(dA,activation_cache)\n",
        "        dA_prev, dW, db = linear_backward(dZ,linear_cache)\n",
        "\n",
        "    elif activation == \"sigmoid\":\n",
        "        dZ = sigmoid_backward(dA,activation_cache)\n",
        "        dA_prev, dW, db = linear_backward(dZ,linear_cache)\n",
        "    return dA_prev,dW,db\n",
        "\n"
      ],
      "metadata": {
        "id": "H3RAJO6ntLeV"
      },
      "execution_count": 20,
      "outputs": []
    },
    {
      "cell_type": "code",
      "source": [
        "# back propogation for L layers\n",
        "def L_model_backward(AL, Y, caches):\n",
        "    grads = {}\n",
        "    L = len(caches)\n",
        "    m = AL.shape[1]\n",
        "    #Y = Y.reshape(AL.shape)\n",
        "\n",
        "    dAL = - (np.divide(Y, AL) - np.divide(1 - Y, 1 - AL))\n",
        "\n",
        "    current_cache = caches[L-1]\n",
        "    grads[\"dA\" + str(L-1)], grads[\"dW\" + str(L)], grads[\"db\" + str(L)] = linear_activation_backward(dAL,current_cache,\"sigmoid\")\n",
        "\n",
        "    for l in reversed(range(L-1)):\n",
        "        current_cache = caches[l]\n",
        "        dA_prev_temp, dW_temp, db_temp = linear_activation_backward(grads[\"dA\"+str(l+1)],current_cache,\"relu\")\n",
        "        grads[\"dA\" + str(l)] = dA_prev_temp\n",
        "        grads[\"dW\" + str(l + 1)] = dW_temp\n",
        "        grads[\"db\" + str(l + 1)] = db_temp\n",
        "    return grads"
      ],
      "metadata": {
        "id": "IYXJo_2ttPra"
      },
      "execution_count": 21,
      "outputs": []
    },
    {
      "cell_type": "code",
      "source": [
        "#update parameters\n",
        "def update_parameters(parameters, grads, learning_rate):\n",
        "    L = len(parameters) // 2\n",
        "    for l in range(L):\n",
        "        parameters[\"W\" + str(l+1)] = parameters[\"W\" + str(l+1)]-(learning_rate)*grads[\"dW\"+str(l+1)]\n",
        "        parameters[\"b\" + str(l+1)] = parameters[\"b\" + str(l+1)]-(learning_rate)*grads[\"db\"+str(l+1)]\n",
        "    return parameters"
      ],
      "metadata": {
        "id": "Uw8IYYqCtTRN"
      },
      "execution_count": 22,
      "outputs": []
    },
    {
      "cell_type": "code",
      "source": [
        "# N layer neural network\n",
        "\n",
        "n_x=X_train.shape[0]\n",
        "layers_dims=[n_x, 60,10,10]\n",
        "\n",
        "def L_layer_model(X, Y, layers_dims, learning_rate = 0.005, num_iterations = 3000, print_cost=False):\n",
        "    np.random.seed(1)\n",
        "    costs = []\n",
        "\n",
        "    parameters = initialize_parameters_deep(layers_dims)\n",
        "\n",
        "    for i in range(0, num_iterations):\n",
        "        # here we are training model to forward, then measure the cost.\n",
        "        # after train backward and update the parameter for next same following cycle.\n",
        "\n",
        "        AL, caches = L_model_forward(X, parameters)\n",
        "        cost = compute_cost(AL, Y)\n",
        "        grads = L_model_backward(AL, Y, caches)\n",
        "        parameters = update_parameters(parameters, grads, learning_rate)\n",
        "        if print_cost and i % 1000 == 0:\n",
        "            print (\"Cost after iteration %i: %f\" %(i, cost))\n",
        "            costs.append(cost)\n",
        "\n",
        "\n",
        "    # plot the cost\n",
        "    plt.plot(np.squeeze(costs))\n",
        "    plt.ylabel('cost')\n",
        "    plt.xlabel('iterations (per tens)')\n",
        "    plt.title(\"Learning rate =\" + str(learning_rate))\n",
        "    plt.show()\n",
        "\n",
        "    return parameters\n",
        "\n",
        "\n",
        "# training, predecting and visulization\n",
        "parameters = L_layer_model(\n",
        "    X_train, Y_train_, layers_dims, num_iterations = 80000, print_cost = True\n",
        ")"
      ],
      "metadata": {
        "colab": {
          "base_uri": "https://localhost:8080/",
          "height": 1000
        },
        "id": "9Nab1iwXtXUS",
        "outputId": "9bded98e-2bc0-4db2-ad26-07b134e2bd15"
      },
      "execution_count": 23,
      "outputs": [
        {
          "output_type": "stream",
          "name": "stdout",
          "text": [
            "Cost after iteration 0: 6.931433\n",
            "Cost after iteration 1000: 3.774829\n",
            "Cost after iteration 2000: 3.262610\n",
            "Cost after iteration 3000: 3.249175\n",
            "Cost after iteration 4000: 3.248149\n",
            "Cost after iteration 5000: 3.245551\n",
            "Cost after iteration 6000: 3.234484\n",
            "Cost after iteration 7000: 3.108940\n",
            "Cost after iteration 8000: 2.714129\n",
            "Cost after iteration 9000: 2.217460\n",
            "Cost after iteration 10000: 1.924373\n",
            "Cost after iteration 11000: 1.561357\n",
            "Cost after iteration 12000: 1.231272\n",
            "Cost after iteration 13000: 0.951040\n",
            "Cost after iteration 14000: 0.764662\n",
            "Cost after iteration 15000: 0.618042\n",
            "Cost after iteration 16000: 0.489283\n",
            "Cost after iteration 17000: 0.401840\n",
            "Cost after iteration 18000: 0.339931\n",
            "Cost after iteration 19000: 0.289097\n",
            "Cost after iteration 20000: 0.243822\n",
            "Cost after iteration 21000: 0.203796\n",
            "Cost after iteration 22000: 0.171250\n",
            "Cost after iteration 23000: 0.145861\n",
            "Cost after iteration 24000: 0.126011\n",
            "Cost after iteration 25000: 0.109966\n",
            "Cost after iteration 26000: 0.096728\n",
            "Cost after iteration 27000: 0.085565\n",
            "Cost after iteration 28000: 0.075986\n",
            "Cost after iteration 29000: 0.067715\n",
            "Cost after iteration 30000: 0.060625\n",
            "Cost after iteration 31000: 0.054387\n",
            "Cost after iteration 32000: 0.048925\n",
            "Cost after iteration 33000: 0.044133\n",
            "Cost after iteration 34000: 0.039980\n",
            "Cost after iteration 35000: 0.036370\n",
            "Cost after iteration 36000: 0.033191\n",
            "Cost after iteration 37000: 0.030399\n",
            "Cost after iteration 38000: 0.027936\n",
            "Cost after iteration 39000: 0.025773\n",
            "Cost after iteration 40000: 0.023862\n",
            "Cost after iteration 41000: 0.022168\n",
            "Cost after iteration 42000: 0.020654\n",
            "Cost after iteration 43000: 0.019300\n",
            "Cost after iteration 44000: 0.018082\n",
            "Cost after iteration 45000: 0.016986\n",
            "Cost after iteration 46000: 0.015993\n",
            "Cost after iteration 47000: 0.015091\n",
            "Cost after iteration 48000: 0.014269\n",
            "Cost after iteration 49000: 0.013519\n",
            "Cost after iteration 50000: 0.012833\n",
            "Cost after iteration 51000: 0.012203\n",
            "Cost after iteration 52000: 0.011623\n",
            "Cost after iteration 53000: 0.011087\n",
            "Cost after iteration 54000: 0.010591\n",
            "Cost after iteration 55000: 0.010131\n",
            "Cost after iteration 56000: 0.009704\n",
            "Cost after iteration 57000: 0.009307\n",
            "Cost after iteration 58000: 0.008937\n",
            "Cost after iteration 59000: 0.008592\n",
            "Cost after iteration 60000: 0.008268\n",
            "Cost after iteration 61000: 0.007965\n",
            "Cost after iteration 62000: 0.007680\n",
            "Cost after iteration 63000: 0.007412\n",
            "Cost after iteration 64000: 0.007160\n",
            "Cost after iteration 65000: 0.006921\n",
            "Cost after iteration 66000: 0.006696\n",
            "Cost after iteration 67000: 0.006483\n",
            "Cost after iteration 68000: 0.006282\n",
            "Cost after iteration 69000: 0.006091\n",
            "Cost after iteration 70000: 0.005910\n",
            "Cost after iteration 71000: 0.005737\n",
            "Cost after iteration 72000: 0.005574\n",
            "Cost after iteration 73000: 0.005418\n",
            "Cost after iteration 74000: 0.005270\n",
            "Cost after iteration 75000: 0.005128\n",
            "Cost after iteration 76000: 0.004993\n",
            "Cost after iteration 77000: 0.004864\n",
            "Cost after iteration 78000: 0.004741\n",
            "Cost after iteration 79000: 0.004622\n"
          ]
        },
        {
          "output_type": "display_data",
          "data": {
            "text/plain": [
              "<Figure size 640x480 with 1 Axes>"
            ],
            "image/png": "[encoded data removed]"
          },
          "metadata": {}
        }
      ]
    },
    {
      "cell_type": "code",
      "source": [
        "def predict_L_layer(X,parameters):\n",
        "    AL,caches=L_model_forward(X,parameters)\n",
        "    prediction=np.argmax(AL,axis=0)\n",
        "    return prediction.reshape(1,prediction.shape[0])"
      ],
      "metadata": {
        "id": "UR1t5DH9vO4E"
      },
      "execution_count": 24,
      "outputs": []
    },
    {
      "cell_type": "code",
      "source": [
        "predictions_train_L = predict_L_layer(X_train, parameters)\n",
        "print(\"Training Accuracy : \"+ str(np.sum(predictions_train_L==y_train)/y_train.shape[1] * 100)+\" %\")"
      ],
      "metadata": {
        "colab": {
          "base_uri": "https://localhost:8080/"
        },
        "id": "ceiQzx7btz2e",
        "outputId": "e7bfef66-b36a-46e4-a269-b2af8a43286b"
      },
      "execution_count": 25,
      "outputs": [
        {
          "output_type": "stream",
          "name": "stdout",
          "text": [
            "Training Accuracy : 100.0 %\n"
          ]
        }
      ]
    },
    {
      "cell_type": "code",
      "source": [
        "predictions_test_L=predict_L_layer(X_test,parameters)\n",
        "print(\"Testing Accuracy : \"+ str(np.sum(predictions_test_L==y_test)/y_test.shape[1] * 100)+\" %\")"
      ],
      "metadata": {
        "colab": {
          "base_uri": "https://localhost:8080/"
        },
        "id": "PUFFJZ2gvagS",
        "outputId": "01070391-ab42-404e-bd64-962891fba947"
      },
      "execution_count": 26,
      "outputs": [
        {
          "output_type": "stream",
          "name": "stdout",
          "text": [
            "Testing Accuracy : 97.5 %\n"
          ]
        }
      ]
    },
    {
      "cell_type": "code",
      "source": [
        "import random\n",
        "\n",
        "# pick random number between 0-9 and show predicted digit and actual digit.\n",
        "i=random.randint(0,n_samples)\n",
        "plt.imshow(digits.images[i], cmap='gray')\n",
        "plt.axis('off')\n",
        "plt.show()\n",
        "img=digits.images[i].reshape((64,1)).T\n",
        "img = sc.transform(img)\n",
        "img=img.T\n",
        "predicted_digit=predict_L_layer(img,parameters)\n",
        "print('Predicted digit is : '+str(predicted_digit))\n",
        "print('True digit is: '+ str(y[i]))"
      ],
      "metadata": {
        "colab": {
          "base_uri": "https://localhost:8080/",
          "height": 441
        },
        "id": "SgOmC1P4vgbw",
        "outputId": "187392d1-76bb-4abb-b191-e49c84c1fe9b"
      },
      "execution_count": 32,
      "outputs": [
        {
          "output_type": "display_data",
          "data": {
            "text/plain": [
              "<Figure size 640x480 with 1 Axes>"
            ],
            "image/png": "[encoded data removed]"
          },
          "metadata": {}
        },
        {
          "output_type": "stream",
          "name": "stdout",
          "text": [
            "Predicted digit is : [[8]]\n",
            "True digit is: 8\n"
          ]
        }
      ]
    }
  ]
}